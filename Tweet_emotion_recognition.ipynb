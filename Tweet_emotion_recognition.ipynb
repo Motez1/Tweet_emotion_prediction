{
  "nbformat": 4,
  "nbformat_minor": 0,
  "metadata": {
    "colab": {
      "name": "Tweet_emotion_recognition.ipynb",
      "provenance": [],
      "authorship_tag": "ABX9TyPr/CufFvSuReuh4N3ZIiky",
      "include_colab_link": true
    },
    "kernelspec": {
      "name": "python3",
      "display_name": "Python 3"
    },
    "language_info": {
      "name": "python"
    },
    "accelerator": "GPU"
  },
  "cells": [
    {
      "cell_type": "markdown",
      "metadata": {
        "id": "view-in-github",
        "colab_type": "text"
      },
      "source": [
        "<a href=\"https://colab.research.google.com/github/Motez1/Tweet_emotion_prediction/blob/master/Tweet_emotion_recognition.ipynb\" target=\"_parent\"><img src=\"https://colab.research.google.com/assets/colab-badge.svg\" alt=\"Open In Colab\"/></a>"
      ]
    },
    {
      "cell_type": "markdown",
      "metadata": {
        "id": "0lVxyQcJzwI3"
      },
      "source": [
        "# Installing packages :\n"
      ]
    },
    {
      "cell_type": "code",
      "metadata": {
        "colab": {
          "base_uri": "https://localhost:8080/"
        },
        "id": "Vr6oDJfTzkAO",
        "outputId": "da3f3d21-d14c-4741-82fb-d778e4e73db4"
      },
      "source": [
        "!pip install nlp"
      ],
      "execution_count": 47,
      "outputs": [
        {
          "output_type": "stream",
          "name": "stdout",
          "text": [
            "Requirement already satisfied: nlp in /usr/local/lib/python3.7/dist-packages (0.4.0)\n",
            "Requirement already satisfied: requests>=2.19.0 in /usr/local/lib/python3.7/dist-packages (from nlp) (2.23.0)\n",
            "Requirement already satisfied: numpy in /usr/local/lib/python3.7/dist-packages (from nlp) (1.19.5)\n",
            "Requirement already satisfied: dill in /usr/local/lib/python3.7/dist-packages (from nlp) (0.3.4)\n",
            "Requirement already satisfied: tqdm>=4.27 in /usr/local/lib/python3.7/dist-packages (from nlp) (4.62.3)\n",
            "Requirement already satisfied: pandas in /usr/local/lib/python3.7/dist-packages (from nlp) (1.1.5)\n",
            "Requirement already satisfied: pyarrow>=0.16.0 in /usr/local/lib/python3.7/dist-packages (from nlp) (3.0.0)\n",
            "Requirement already satisfied: filelock in /usr/local/lib/python3.7/dist-packages (from nlp) (3.3.0)\n",
            "Requirement already satisfied: xxhash in /usr/local/lib/python3.7/dist-packages (from nlp) (2.0.2)\n",
            "Requirement already satisfied: chardet<4,>=3.0.2 in /usr/local/lib/python3.7/dist-packages (from requests>=2.19.0->nlp) (3.0.4)\n",
            "Requirement already satisfied: certifi>=2017.4.17 in /usr/local/lib/python3.7/dist-packages (from requests>=2.19.0->nlp) (2021.5.30)\n",
            "Requirement already satisfied: urllib3!=1.25.0,!=1.25.1,<1.26,>=1.21.1 in /usr/local/lib/python3.7/dist-packages (from requests>=2.19.0->nlp) (1.24.3)\n",
            "Requirement already satisfied: idna<3,>=2.5 in /usr/local/lib/python3.7/dist-packages (from requests>=2.19.0->nlp) (2.10)\n",
            "Requirement already satisfied: pytz>=2017.2 in /usr/local/lib/python3.7/dist-packages (from pandas->nlp) (2018.9)\n",
            "Requirement already satisfied: python-dateutil>=2.7.3 in /usr/local/lib/python3.7/dist-packages (from pandas->nlp) (2.8.2)\n",
            "Requirement already satisfied: six>=1.5 in /usr/local/lib/python3.7/dist-packages (from python-dateutil>=2.7.3->pandas->nlp) (1.15.0)\n"
          ]
        }
      ]
    },
    {
      "cell_type": "code",
      "metadata": {
        "colab": {
          "base_uri": "https://localhost:8080/"
        },
        "id": "tMV3YVC80WDz",
        "outputId": "dfeb34ed-0198-4292-c468-3b93d590bc33"
      },
      "source": [
        "%matplotlib inline\n",
        "import tensorflow as tf\n",
        "import numpy as np\n",
        "import matplotlib.pyplot as plt\n",
        "import nlp\n",
        "import random\n",
        "\n",
        "def show_history(h):\n",
        "    epochs_trained = len(h.history['loss'])\n",
        "    plt.figure(figsize=(16,6))\n",
        "\n",
        "    plt.subplot(1,2,1)\n",
        "    plt.plot(range(0,epochs_trained), h.history.get('accuracy'), label='Training')\n",
        "    plt.plot(range(0,epochs_trained), h.history.get('val_accuracy'), label='Validation')\n",
        "    plt.ylim([0.,1.])\n",
        "    plt.xlabel(\"Epochs\")\n",
        "    plt.ylabel(\"Accuracy\")\n",
        "    plt.legend()\n",
        "\n",
        "    plt.subplot(1,2,2)\n",
        "    plt.plot(range(0,epochs_trained), h.history.get('loss'), label='Training')\n",
        "    plt.plot(range(0,epochs_trained), h.history.get('val_loss'), label='Validation')\n",
        "    plt.xlabel(\"Epochs\")\n",
        "    plt.ylabel(\"Loss\")\n",
        "    plt.legend()\n",
        "    plt.show()\n",
        "\n",
        "def show_confusion_matrix(y_true, y_pred, classes):\n",
        "    from sklearn.metrics import confusion_matrix\n",
        "\n",
        "    cm = confusion_matrix(y_true,y_pred,normalize='true')\n",
        "\n",
        "    plt.figure(figsize=(8,8))\n",
        "    sp = plt.subplot(1,1,1)\n",
        "    ctx = sp.matshow(cm)\n",
        "    plt.xticks(list(range(0,6)), labesl=classes)\n",
        "    plt.yticks(list(range(0,6)), labesl=classes)\n",
        "    plt.colorbar(ctx)\n",
        "    plt.show()\n",
        "\n",
        "print('Using TensorFlow version', tf.__version__)\n"
      ],
      "execution_count": 48,
      "outputs": [
        {
          "output_type": "stream",
          "name": "stdout",
          "text": [
            "Using TensorFlow version 2.6.0\n"
          ]
        }
      ]
    },
    {
      "cell_type": "markdown",
      "metadata": {
        "id": "mDAogzxv4wDs"
      },
      "source": [
        "# Importing Data : "
      ]
    },
    {
      "cell_type": "code",
      "metadata": {
        "colab": {
          "base_uri": "https://localhost:8080/"
        },
        "id": "NSGVB0tW4rhD",
        "outputId": "3bc29edd-16d1-4da8-a6b5-3698185f91a2"
      },
      "source": [
        "dataset = nlp.load_dataset('emotion')"
      ],
      "execution_count": 49,
      "outputs": [
        {
          "output_type": "stream",
          "name": "stderr",
          "text": [
            "Using custom data configuration default\n"
          ]
        }
      ]
    },
    {
      "cell_type": "code",
      "metadata": {
        "id": "TIhC2Yz15Q63",
        "colab": {
          "base_uri": "https://localhost:8080/"
        },
        "outputId": "733660c1-b2bd-48f3-d47d-438f63d9185c"
      },
      "source": [
        "dataset"
      ],
      "execution_count": 50,
      "outputs": [
        {
          "output_type": "execute_result",
          "data": {
            "text/plain": [
              "{'test': Dataset(features: {'text': Value(dtype='string', id=None), 'label': Value(dtype='string', id=None)}, num_rows: 2000),\n",
              " 'train': Dataset(features: {'text': Value(dtype='string', id=None), 'label': Value(dtype='string', id=None)}, num_rows: 16000),\n",
              " 'validation': Dataset(features: {'text': Value(dtype='string', id=None), 'label': Value(dtype='string', id=None)}, num_rows: 2000)}"
            ]
          },
          "metadata": {},
          "execution_count": 50
        }
      ]
    },
    {
      "cell_type": "code",
      "metadata": {
        "id": "RyUlSYBG5V_j"
      },
      "source": [
        "train = dataset[\"train\"]\n",
        "validation = dataset[\"validation\"]\n",
        "test = dataset[\"test\"]"
      ],
      "execution_count": 51,
      "outputs": []
    },
    {
      "cell_type": "code",
      "metadata": {
        "id": "FQI1pUg_FURj"
      },
      "source": [
        "def get_tweet(data):\n",
        "  tweets = [x['text'] for x in data]\n",
        "  labels = [x['label'] for x in data]\n",
        "  return tweets, labels"
      ],
      "execution_count": 52,
      "outputs": []
    },
    {
      "cell_type": "code",
      "metadata": {
        "id": "OV-ayHtOGCZe"
      },
      "source": [
        "tweets , labels = get_tweet(train)"
      ],
      "execution_count": 53,
      "outputs": []
    },
    {
      "cell_type": "code",
      "metadata": {
        "colab": {
          "base_uri": "https://localhost:8080/"
        },
        "id": "LKAuQDo9GKiN",
        "outputId": "7475e08a-72be-4694-c46f-f495cb6eb74b"
      },
      "source": [
        "tweets[0] , labels[0] "
      ],
      "execution_count": 54,
      "outputs": [
        {
          "output_type": "execute_result",
          "data": {
            "text/plain": [
              "('i didnt feel humiliated', 'sadness')"
            ]
          },
          "metadata": {},
          "execution_count": 54
        }
      ]
    },
    {
      "cell_type": "markdown",
      "metadata": {
        "id": "eM4DqT-BGx3Y"
      },
      "source": [
        "#Tokenizer: "
      ]
    },
    {
      "cell_type": "code",
      "metadata": {
        "id": "E5bJOCvcGZpT"
      },
      "source": [
        "from tensorflow.keras.preprocessing.text import Tokenizer"
      ],
      "execution_count": 55,
      "outputs": []
    },
    {
      "cell_type": "code",
      "metadata": {
        "id": "JLvojzBmHB9p"
      },
      "source": [
        "tokenizer = Tokenizer(num_words=10000, oov_token='<UNK>')\n",
        "tokenizer.fit_on_texts(tweets)"
      ],
      "execution_count": 56,
      "outputs": []
    },
    {
      "cell_type": "code",
      "metadata": {
        "colab": {
          "base_uri": "https://localhost:8080/"
        },
        "id": "d0N5JXGYI2am",
        "outputId": "c721f57d-fd42-40a3-8a4b-19b498f12b65"
      },
      "source": [
        "tokenizer.texts_to_sequences([tweets[0]])"
      ],
      "execution_count": 57,
      "outputs": [
        {
          "output_type": "execute_result",
          "data": {
            "text/plain": [
              "[[2, 139, 3, 679]]"
            ]
          },
          "metadata": {},
          "execution_count": 57
        }
      ]
    },
    {
      "cell_type": "markdown",
      "metadata": {
        "id": "nT_vziX5JqEb"
      },
      "source": [
        "#Padding and truncating sequences:\n",
        "#####1.Check the lengths of sequences\n",
        "#####2.Create padded sequences\n"
      ]
    },
    {
      "cell_type": "code",
      "metadata": {
        "colab": {
          "base_uri": "https://localhost:8080/",
          "height": 265
        },
        "id": "N6bKaLLFJomQ",
        "outputId": "f820edde-4182-44e1-8c77-1d0640e505b9"
      },
      "source": [
        "lengths = [len(t.split(' ')) for t in tweets]\n",
        "plt.hist(lengths, bins=len(set(lengths)))\n",
        "plt.show()"
      ],
      "execution_count": 58,
      "outputs": [
        {
          "output_type": "display_data",
          "data": {
            "image/png": "[encoded data removed]",
            "text/plain": [
              "<Figure size 432x288 with 1 Axes>"
            ]
          },
          "metadata": {
            "needs_background": "light"
          }
        }
      ]
    },
    {
      "cell_type": "code",
      "metadata": {
        "id": "xzEWpsBeLFRW"
      },
      "source": [
        "maxlen = 50\n",
        "from tensorflow.keras.preprocessing.sequence import pad_sequences"
      ],
      "execution_count": 59,
      "outputs": []
    },
    {
      "cell_type": "code",
      "metadata": {
        "id": "dzgmSRjLMMK5"
      },
      "source": [
        "def gets_sequences(tokenizer,tweets):\n",
        "  sequences = tokenizer.texts_to_sequences(tweets)\n",
        "  padded = pad_sequences(sequences, truncating='post', padding ='post',maxlen=maxlen)\n",
        "  return padded"
      ],
      "execution_count": 60,
      "outputs": []
    },
    {
      "cell_type": "code",
      "metadata": {
        "id": "yxwsFVbXNJVK"
      },
      "source": [
        "padded_train_seq = gets_sequences(tokenizer,tweets)"
      ],
      "execution_count": 61,
      "outputs": []
    },
    {
      "cell_type": "code",
      "metadata": {
        "colab": {
          "base_uri": "https://localhost:8080/"
        },
        "id": "O4sfK_EaNUB1",
        "outputId": "90d42b41-445e-4106-fbb7-63faf302f724"
      },
      "source": [
        "padded_train_seq[0]"
      ],
      "execution_count": 62,
      "outputs": [
        {
          "output_type": "execute_result",
          "data": {
            "text/plain": [
              "array([  2, 139,   3, 679,   0,   0,   0,   0,   0,   0,   0,   0,   0,\n",
              "         0,   0,   0,   0,   0,   0,   0,   0,   0,   0,   0,   0,   0,\n",
              "         0,   0,   0,   0,   0,   0,   0,   0,   0,   0,   0,   0,   0,\n",
              "         0,   0,   0,   0,   0,   0,   0,   0,   0,   0,   0], dtype=int32)"
            ]
          },
          "metadata": {},
          "execution_count": 62
        }
      ]
    },
    {
      "cell_type": "markdown",
      "metadata": {
        "id": "wyz16KpcNiEc"
      },
      "source": [
        "#Preparing the labels:\n",
        "#####1.Create classes to index and index classes to dictionaries\n",
        "#####2.Convert text labels to numeric labels"
      ]
    },
    {
      "cell_type": "code",
      "metadata": {
        "colab": {
          "base_uri": "https://localhost:8080/"
        },
        "id": "864GHy-tNWp3",
        "outputId": "3354a74f-d6cd-43e0-c6e9-4b4da8d9e04e"
      },
      "source": [
        "classes = set(labels)\n",
        "print(classes)"
      ],
      "execution_count": 63,
      "outputs": [
        {
          "output_type": "stream",
          "name": "stdout",
          "text": [
            "{'joy', 'sadness', 'love', 'anger', 'surprise', 'fear'}\n"
          ]
        }
      ]
    },
    {
      "cell_type": "code",
      "metadata": {
        "colab": {
          "base_uri": "https://localhost:8080/",
          "height": 265
        },
        "id": "abB3yFVeOG00",
        "outputId": "5c78a0f7-b6a8-4b6e-8f6a-dc7cc07f8c39"
      },
      "source": [
        "plt.hist(labels, bins = 11)\n",
        "plt.show()"
      ],
      "execution_count": 64,
      "outputs": [
        {
          "output_type": "display_data",
          "data": {
            "image/png": "[encoded data removed]",
            "text/plain": [
              "<Figure size 432x288 with 1 Axes>"
            ]
          },
          "metadata": {
            "needs_background": "light"
          }
        }
      ]
    },
    {
      "cell_type": "code",
      "metadata": {
        "colab": {
          "base_uri": "https://localhost:8080/"
        },
        "id": "pw0-k4U9Ogy_",
        "outputId": "45f8e853-197f-4d59-d5fd-729f59704cc2"
      },
      "source": [
        "class_to_index = dict((cls,i) for i, cls in enumerate(classes))\n",
        "index_to_class = dict((v,k) for k,v in class_to_index.items())\n",
        "index_to_class"
      ],
      "execution_count": 122,
      "outputs": [
        {
          "output_type": "execute_result",
          "data": {
            "text/plain": [
              "{0: 'joy', 1: 'sadness', 2: 'love', 3: 'anger', 4: 'surprise', 5: 'fear'}"
            ]
          },
          "metadata": {},
          "execution_count": 122
        }
      ]
    },
    {
      "cell_type": "code",
      "metadata": {
        "id": "fkfWEiYrPvh9"
      },
      "source": [
        "names_to_ids = lambda labels: np.array([class_to_index.get(x) for x in labels])"
      ],
      "execution_count": 66,
      "outputs": []
    },
    {
      "cell_type": "code",
      "metadata": {
        "colab": {
          "base_uri": "https://localhost:8080/"
        },
        "id": "dvNEa0TEQBok",
        "outputId": "99066f70-d134-4c02-a7ef-86b9b0d2f4b5"
      },
      "source": [
        "train_labels = names_to_ids(labels)\n",
        "print(train_labels[0])"
      ],
      "execution_count": 67,
      "outputs": [
        {
          "output_type": "stream",
          "name": "stdout",
          "text": [
            "1\n"
          ]
        }
      ]
    },
    {
      "cell_type": "markdown",
      "metadata": {
        "id": "t81-8msKRd5t"
      },
      "source": [
        "#Create the model:\n",
        "#####1.Creating the model\n",
        "#####2.Compiling the model"
      ]
    },
    {
      "cell_type": "code",
      "metadata": {
        "id": "wXfxmorgRXZn"
      },
      "source": [
        "model = tf.keras.models.Sequential([\n",
        "        tf.keras.layers.Embedding(10000, 16, input_length=maxlen),\n",
        "        tf.keras.layers.Bidirectional(tf.keras.layers.LSTM(20, return_sequences=True)),\n",
        "        tf.keras.layers.Bidirectional(tf.keras.layers.LSTM(20)),\n",
        "        tf.keras.layers.Dense(6, activation='softmax')                    \n",
        "])\n",
        "\n",
        "model.compile(\n",
        "    loss=\"sparse_categorical_crossentropy\",\n",
        "    optimizer=\"adam\",\n",
        "    metrics=[\"accuracy\"]\n",
        ")"
      ],
      "execution_count": 69,
      "outputs": []
    },
    {
      "cell_type": "code",
      "metadata": {
        "colab": {
          "base_uri": "https://localhost:8080/"
        },
        "id": "zOZz3HovTxmS",
        "outputId": "bc4a1ac2-301c-4da4-c6a7-e8f8e9e3db48"
      },
      "source": [
        "model.summary()"
      ],
      "execution_count": 70,
      "outputs": [
        {
          "output_type": "stream",
          "name": "stdout",
          "text": [
            "Model: \"sequential_1\"\n",
            "_________________________________________________________________\n",
            "Layer (type)                 Output Shape              Param #   \n",
            "=================================================================\n",
            "embedding_1 (Embedding)      (None, 50, 16)            160000    \n",
            "_________________________________________________________________\n",
            "bidirectional_2 (Bidirection (None, 50, 40)            5920      \n",
            "_________________________________________________________________\n",
            "bidirectional_3 (Bidirection (None, 40)                9760      \n",
            "_________________________________________________________________\n",
            "dense_1 (Dense)              (None, 6)                 246       \n",
            "=================================================================\n",
            "Total params: 175,926\n",
            "Trainable params: 175,926\n",
            "Non-trainable params: 0\n",
            "_________________________________________________________________\n"
          ]
        }
      ]
    },
    {
      "cell_type": "markdown",
      "metadata": {
        "id": "BGKRW-K7UNzB"
      },
      "source": [
        "#Train the model:\n",
        "####1.Prepare a validation set\n",
        "####2.Train the model\n",
        "\n"
      ]
    },
    {
      "cell_type": "code",
      "metadata": {
        "id": "cE38fR9AT9GX"
      },
      "source": [
        " val_tweets, val_labels = get_tweet(validation)\n",
        " val_seq = gets_sequences(tokenizer,val_tweets)\n",
        " val_labels = names_to_ids(val_labels)"
      ],
      "execution_count": 72,
      "outputs": []
    },
    {
      "cell_type": "code",
      "metadata": {
        "colab": {
          "base_uri": "https://localhost:8080/"
        },
        "id": "xst3ce6PU4oJ",
        "outputId": "77c8c3e0-b72a-4522-b7d2-bea7f496b9a1"
      },
      "source": [
        "val_tweets[0], val_labels[0]"
      ],
      "execution_count": 75,
      "outputs": [
        {
          "output_type": "execute_result",
          "data": {
            "text/plain": [
              "('im feeling quite sad and sorry for myself but ill snap out of it soon', 1)"
            ]
          },
          "metadata": {},
          "execution_count": 75
        }
      ]
    },
    {
      "cell_type": "code",
      "metadata": {
        "colab": {
          "base_uri": "https://localhost:8080/"
        },
        "id": "yYgnICNmU93v",
        "outputId": "34c4db23-06c6-48c7-f503-6504a20ca0a1"
      },
      "source": [
        "h = model.fit(\n",
        "    padded_train_seq, train_labels,\n",
        "    validation_data=(val_seq,val_labels),\n",
        "    epochs=20,\n",
        "    callbacks=[\n",
        "               tf.keras.callbacks.EarlyStopping(monitor='val_accuracy', patience=2)\n",
        "    ]\n",
        ")"
      ],
      "execution_count": 76,
      "outputs": [
        {
          "output_type": "stream",
          "name": "stdout",
          "text": [
            "Epoch 1/20\n",
            "500/500 [==============================] - 39s 58ms/step - loss: 1.2717 - accuracy: 0.4973 - val_loss: 0.7612 - val_accuracy: 0.7395\n",
            "Epoch 2/20\n",
            "500/500 [==============================] - 27s 55ms/step - loss: 0.5174 - accuracy: 0.8269 - val_loss: 0.5535 - val_accuracy: 0.8160\n",
            "Epoch 3/20\n",
            "500/500 [==============================] - 27s 54ms/step - loss: 0.3500 - accuracy: 0.8820 - val_loss: 0.5285 - val_accuracy: 0.8175\n",
            "Epoch 4/20\n",
            "500/500 [==============================] - 28s 55ms/step - loss: 0.2684 - accuracy: 0.9051 - val_loss: 0.4765 - val_accuracy: 0.8290\n",
            "Epoch 5/20\n",
            "500/500 [==============================] - 27s 54ms/step - loss: 0.2025 - accuracy: 0.9321 - val_loss: 0.4354 - val_accuracy: 0.8600\n",
            "Epoch 6/20\n",
            "500/500 [==============================] - 27s 54ms/step - loss: 0.1668 - accuracy: 0.9486 - val_loss: 0.4633 - val_accuracy: 0.8650\n",
            "Epoch 7/20\n",
            "500/500 [==============================] - 27s 54ms/step - loss: 0.1262 - accuracy: 0.9612 - val_loss: 0.4534 - val_accuracy: 0.8775\n",
            "Epoch 8/20\n",
            "500/500 [==============================] - 27s 54ms/step - loss: 0.1195 - accuracy: 0.9639 - val_loss: 0.3715 - val_accuracy: 0.8875\n",
            "Epoch 9/20\n",
            "500/500 [==============================] - 27s 54ms/step - loss: 0.0998 - accuracy: 0.9694 - val_loss: 0.3954 - val_accuracy: 0.8880\n",
            "Epoch 10/20\n",
            "500/500 [==============================] - 27s 55ms/step - loss: 0.0810 - accuracy: 0.9751 - val_loss: 0.4257 - val_accuracy: 0.8815\n",
            "Epoch 11/20\n",
            "500/500 [==============================] - 28s 55ms/step - loss: 0.0736 - accuracy: 0.9762 - val_loss: 0.3686 - val_accuracy: 0.8895\n",
            "Epoch 12/20\n",
            "500/500 [==============================] - 28s 55ms/step - loss: 0.0668 - accuracy: 0.9779 - val_loss: 0.3586 - val_accuracy: 0.8910\n",
            "Epoch 13/20\n",
            "500/500 [==============================] - 28s 56ms/step - loss: 0.0572 - accuracy: 0.9820 - val_loss: 0.3682 - val_accuracy: 0.8970\n",
            "Epoch 14/20\n",
            "500/500 [==============================] - 28s 56ms/step - loss: 0.0460 - accuracy: 0.9851 - val_loss: 0.3975 - val_accuracy: 0.8930\n",
            "Epoch 15/20\n",
            "500/500 [==============================] - 28s 57ms/step - loss: 0.0470 - accuracy: 0.9847 - val_loss: 0.4022 - val_accuracy: 0.8925\n"
          ]
        }
      ]
    },
    {
      "cell_type": "markdown",
      "metadata": {
        "id": "2mdOYKfOX-td"
      },
      "source": [
        "#Evaluate the model:\n",
        "1. Visualizing training history\n",
        "2. Prepraring a test set\n",
        "3. A look at individual predictions on the test set\n",
        "4. A look at all predictions on the test set"
      ]
    },
    {
      "cell_type": "code",
      "metadata": {
        "colab": {
          "base_uri": "https://localhost:8080/",
          "height": 392
        },
        "id": "uOWJUw78WNsb",
        "outputId": "f5b0e044-6126-4177-c553-83fff5284d0e"
      },
      "source": [
        "show_history(h)"
      ],
      "execution_count": 77,
      "outputs": [
        {
          "output_type": "display_data",
          "data": {
            "image/png": "[encoded data removed]",
            "text/plain": [
              "<Figure size 1152x432 with 2 Axes>"
            ]
          },
          "metadata": {
            "needs_background": "light"
          }
        }
      ]
    },
    {
      "cell_type": "code",
      "metadata": {
        "id": "9Y87eTd6cgY6"
      },
      "source": [
        "test_tweets, test_labels = get_tweet(test)\n",
        "test_sequences = gets_sequences(tokenizer, test_tweets)\n",
        "test_labels = names_to_ids(test_labels)"
      ],
      "execution_count": 80,
      "outputs": []
    },
    {
      "cell_type": "code",
      "metadata": {
        "colab": {
          "base_uri": "https://localhost:8080/"
        },
        "id": "Ot8m61bjcgM0",
        "outputId": "1097a149-d2b3-4cc1-e39b-46fc89dbf4c5"
      },
      "source": [
        "_ = model.evaluate(test_sequences, test_labels)"
      ],
      "execution_count": 223,
      "outputs": [
        {
          "output_type": "stream",
          "name": "stdout",
          "text": [
            "63/63 [==============================] - 1s 18ms/step - loss: 0.4573 - accuracy: 0.8905\n"
          ]
        }
      ]
    },
    {
      "cell_type": "code",
      "metadata": {
        "colab": {
          "base_uri": "https://localhost:8080/"
        },
        "id": "v5eQaFTNcxVQ",
        "outputId": "fd26623b-3059-4936-cc1c-458b5939cc42"
      },
      "source": [
        "i = random.randint(0, len(test_labels) - 1)\n",
        "\n",
        "print('Sentence:', test_tweets[i])\n",
        "print('Emotion:', index_to_class[test_labels[i]])\n",
        "p = model.predict(test_sequences)[i]\n",
        "c = np.argmax(p,axis=0)\n",
        "print(\"Predicted Emotion: \",index_to_class.get(c))"
      ],
      "execution_count": 259,
      "outputs": [
        {
          "output_type": "stream",
          "name": "stdout",
          "text": [
            "Sentence: i feel sure that i will go beyond that\n",
            "Emotion: joy\n",
            "Predicted Emotion:  joy\n"
          ]
        }
      ]
    },
    {
      "cell_type": "code",
      "metadata": {
        "id": "F4Ce3LEjo_43"
      },
      "source": [
        ""
      ],
      "execution_count": null,
      "outputs": []
    }
  ]
}